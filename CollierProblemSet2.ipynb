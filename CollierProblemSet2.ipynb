{
  "nbformat": 4,
  "nbformat_minor": 0,
  "metadata": {
    "colab": {
      "provenance": []
    },
    "kernelspec": {
      "name": "python3",
      "display_name": "Python 3"
    },
    "language_info": {
      "name": "python"
    }
  },
  "cells": [
    {
      "cell_type": "code",
      "execution_count": null,
      "metadata": {
        "id": "Yd-Wrf0CBQX_"
      },
      "outputs": [],
      "source": [
        "#Rachel Collier\n",
        "#Problem Set 2\n",
        "#section 1\n",
        "import pandas\n",
        "import numpy\n",
        "import matplotlib\n",
        "import seaborn\n",
        "import sklearn\n",
        "from sklearn import metrics"
      ]
    },
    {
      "cell_type": "markdown",
      "source": [
        "Pandas: Necessary for data manipulation and analysis, enabling efficient handling of simulated route data.\n",
        "\n",
        "Numpy: Essential for numerical calculations, particularly in computing distances and conducting mathematical operations for route optimization.\n",
        "\n",
        "Matplotlib: Crucial for creating data visualizations, facilitating the representation of simulation results.\n",
        "\n",
        "Seaborn: Enhances visualizations by providing aesthetically pleasing statistical graphics to communicate findings effectively.\n",
        "\n",
        "sklearn: While not primarily for machine learning, it's valuable for analytical tasks and metrics, aiding in evaluating the quality of optimized routes through the metrics module."
      ],
      "metadata": {
        "id": "ABfSKdoWCOfP"
      }
    },
    {
      "cell_type": "code",
      "source": [
        "from google.colab import drive\n",
        "drive.mount('/content/drive')"
      ],
      "metadata": {
        "id": "k9PNgKISjqxY",
        "colab": {
          "base_uri": "https://localhost:8080/"
        },
        "outputId": "d9bd76c3-7975-45f6-d779-74befca1c505"
      },
      "execution_count": null,
      "outputs": [
        {
          "output_type": "stream",
          "name": "stdout",
          "text": [
            "Drive already mounted at /content/drive; to attempt to forcibly remount, call drive.mount(\"/content/drive\", force_remount=True).\n"
          ]
        }
      ]
    },
    {
      "cell_type": "code",
      "source": [
        "import pandas as pd\n",
        "data = pd.read_csv('/content/drive/MyDrive/AIProblemSet2Data/train.csv')"
      ],
      "metadata": {
        "id": "1jXJZ4vOkCP-"
      },
      "execution_count": null,
      "outputs": []
    },
    {
      "cell_type": "code",
      "source": [
        "#section 2: 2\n",
        "data"
      ],
      "metadata": {
        "colab": {
          "base_uri": "https://localhost:8080/",
          "height": 453
        },
        "id": "HOvkwszlqNdL",
        "outputId": "669fd445-7938-4575-e755-fab167a78452"
      },
      "execution_count": null,
      "outputs": [
        {
          "output_type": "execute_result",
          "data": {
            "text/plain": [
              "     PassengerId  Survived  Pclass  \\\n",
              "0              1         0       3   \n",
              "1              2         1       1   \n",
              "2              3         1       3   \n",
              "3              4         1       1   \n",
              "4              5         0       3   \n",
              "..           ...       ...     ...   \n",
              "886          887         0       2   \n",
              "887          888         1       1   \n",
              "888          889         0       3   \n",
              "889          890         1       1   \n",
              "890          891         0       3   \n",
              "\n",
              "                                                  Name     Sex   Age  SibSp  \\\n",
              "0                              Braund, Mr. Owen Harris    male  22.0      1   \n",
              "1    Cumings, Mrs. John Bradley (Florence Briggs Th...  female  38.0      1   \n",
              "2                               Heikkinen, Miss. Laina  female  26.0      0   \n",
              "3         Futrelle, Mrs. Jacques Heath (Lily May Peel)  female  35.0      1   \n",
              "4                             Allen, Mr. William Henry    male  35.0      0   \n",
              "..                                                 ...     ...   ...    ...   \n",
              "886                              Montvila, Rev. Juozas    male  27.0      0   \n",
              "887                       Graham, Miss. Margaret Edith  female  19.0      0   \n",
              "888           Johnston, Miss. Catherine Helen \"Carrie\"  female   NaN      1   \n",
              "889                              Behr, Mr. Karl Howell    male  26.0      0   \n",
              "890                                Dooley, Mr. Patrick    male  32.0      0   \n",
              "\n",
              "     Parch            Ticket     Fare Cabin Embarked  \n",
              "0        0         A/5 21171   7.2500   NaN        S  \n",
              "1        0          PC 17599  71.2833   C85        C  \n",
              "2        0  STON/O2. 3101282   7.9250   NaN        S  \n",
              "3        0            113803  53.1000  C123        S  \n",
              "4        0            373450   8.0500   NaN        S  \n",
              "..     ...               ...      ...   ...      ...  \n",
              "886      0            211536  13.0000   NaN        S  \n",
              "887      0            112053  30.0000   B42        S  \n",
              "888      2        W./C. 6607  23.4500   NaN        S  \n",
              "889      0            111369  30.0000  C148        C  \n",
              "890      0            370376   7.7500   NaN        Q  \n",
              "\n",
              "[891 rows x 12 columns]"
            ],
            "text/html": [
              "\n",
              "  <div id=\"df-4cf2f13f-fbf8-4f06-ade2-9301e7d6af34\" class=\"colab-df-container\">\n",
              "    <div>\n",
              "<style scoped>\n",
              "    .dataframe tbody tr th:only-of-type {\n",
              "        vertical-align: middle;\n",
              "    }\n",
              "\n",
              "    .dataframe tbody tr th {\n",
              "        vertical-align: top;\n",
              "    }\n",
              "\n",
              "    .dataframe thead th {\n",
              "        text-align: right;\n",
              "    }\n",
              "</style>\n",
              "<table border=\"1\" class=\"dataframe\">\n",
              "  <thead>\n",
              "    <tr style=\"text-align: right;\">\n",
              "      <th></th>\n",
              "      <th>PassengerId</th>\n",
              "      <th>Survived</th>\n",
              "      <th>Pclass</th>\n",
              "      <th>Name</th>\n",
              "      <th>Sex</th>\n",
              "      <th>Age</th>\n",
              "      <th>SibSp</th>\n",
              "      <th>Parch</th>\n",
              "      <th>Ticket</th>\n",
              "      <th>Fare</th>\n",
              "      <th>Cabin</th>\n",
              "      <th>Embarked</th>\n",
              "    </tr>\n",
              "  </thead>\n",
              "  <tbody>\n",
              "    <tr>\n",
              "      <th>0</th>\n",
              "      <td>1</td>\n",
              "      <td>0</td>\n",
              "      <td>3</td>\n",
              "      <td>Braund, Mr. Owen Harris</td>\n",
              "      <td>male</td>\n",
              "      <td>22.0</td>\n",
              "      <td>1</td>\n",
              "      <td>0</td>\n",
              "      <td>A/5 21171</td>\n",
              "      <td>7.2500</td>\n",
              "      <td>NaN</td>\n",
              "      <td>S</td>\n",
              "    </tr>\n",
              "    <tr>\n",
              "      <th>1</th>\n",
              "      <td>2</td>\n",
              "      <td>1</td>\n",
              "      <td>1</td>\n",
              "      <td>Cumings, Mrs. John Bradley (Florence Briggs Th...</td>\n",
              "      <td>female</td>\n",
              "      <td>38.0</td>\n",
              "      <td>1</td>\n",
              "      <td>0</td>\n",
              "      <td>PC 17599</td>\n",
              "      <td>71.2833</td>\n",
              "      <td>C85</td>\n",
              "      <td>C</td>\n",
              "    </tr>\n",
              "    <tr>\n",
              "      <th>2</th>\n",
              "      <td>3</td>\n",
              "      <td>1</td>\n",
              "      <td>3</td>\n",
              "      <td>Heikkinen, Miss. Laina</td>\n",
              "      <td>female</td>\n",
              "      <td>26.0</td>\n",
              "      <td>0</td>\n",
              "      <td>0</td>\n",
              "      <td>STON/O2. 3101282</td>\n",
              "      <td>7.9250</td>\n",
              "      <td>NaN</td>\n",
              "      <td>S</td>\n",
              "    </tr>\n",
              "    <tr>\n",
              "      <th>3</th>\n",
              "      <td>4</td>\n",
              "      <td>1</td>\n",
              "      <td>1</td>\n",
              "      <td>Futrelle, Mrs. Jacques Heath (Lily May Peel)</td>\n",
              "      <td>female</td>\n",
              "      <td>35.0</td>\n",
              "      <td>1</td>\n",
              "      <td>0</td>\n",
              "      <td>113803</td>\n",
              "      <td>53.1000</td>\n",
              "      <td>C123</td>\n",
              "      <td>S</td>\n",
              "    </tr>\n",
              "    <tr>\n",
              "      <th>4</th>\n",
              "      <td>5</td>\n",
              "      <td>0</td>\n",
              "      <td>3</td>\n",
              "      <td>Allen, Mr. William Henry</td>\n",
              "      <td>male</td>\n",
              "      <td>35.0</td>\n",
              "      <td>0</td>\n",
              "      <td>0</td>\n",
              "      <td>373450</td>\n",
              "      <td>8.0500</td>\n",
              "      <td>NaN</td>\n",
              "      <td>S</td>\n",
              "    </tr>\n",
              "    <tr>\n",
              "      <th>...</th>\n",
              "      <td>...</td>\n",
              "      <td>...</td>\n",
              "      <td>...</td>\n",
              "      <td>...</td>\n",
              "      <td>...</td>\n",
              "      <td>...</td>\n",
              "      <td>...</td>\n",
              "      <td>...</td>\n",
              "      <td>...</td>\n",
              "      <td>...</td>\n",
              "      <td>...</td>\n",
              "      <td>...</td>\n",
              "    </tr>\n",
              "    <tr>\n",
              "      <th>886</th>\n",
              "      <td>887</td>\n",
              "      <td>0</td>\n",
              "      <td>2</td>\n",
              "      <td>Montvila, Rev. Juozas</td>\n",
              "      <td>male</td>\n",
              "      <td>27.0</td>\n",
              "      <td>0</td>\n",
              "      <td>0</td>\n",
              "      <td>211536</td>\n",
              "      <td>13.0000</td>\n",
              "      <td>NaN</td>\n",
              "      <td>S</td>\n",
              "    </tr>\n",
              "    <tr>\n",
              "      <th>887</th>\n",
              "      <td>888</td>\n",
              "      <td>1</td>\n",
              "      <td>1</td>\n",
              "      <td>Graham, Miss. Margaret Edith</td>\n",
              "      <td>female</td>\n",
              "      <td>19.0</td>\n",
              "      <td>0</td>\n",
              "      <td>0</td>\n",
              "      <td>112053</td>\n",
              "      <td>30.0000</td>\n",
              "      <td>B42</td>\n",
              "      <td>S</td>\n",
              "    </tr>\n",
              "    <tr>\n",
              "      <th>888</th>\n",
              "      <td>889</td>\n",
              "      <td>0</td>\n",
              "      <td>3</td>\n",
              "      <td>Johnston, Miss. Catherine Helen \"Carrie\"</td>\n",
              "      <td>female</td>\n",
              "      <td>NaN</td>\n",
              "      <td>1</td>\n",
              "      <td>2</td>\n",
              "      <td>W./C. 6607</td>\n",
              "      <td>23.4500</td>\n",
              "      <td>NaN</td>\n",
              "      <td>S</td>\n",
              "    </tr>\n",
              "    <tr>\n",
              "      <th>889</th>\n",
              "      <td>890</td>\n",
              "      <td>1</td>\n",
              "      <td>1</td>\n",
              "      <td>Behr, Mr. Karl Howell</td>\n",
              "      <td>male</td>\n",
              "      <td>26.0</td>\n",
              "      <td>0</td>\n",
              "      <td>0</td>\n",
              "      <td>111369</td>\n",
              "      <td>30.0000</td>\n",
              "      <td>C148</td>\n",
              "      <td>C</td>\n",
              "    </tr>\n",
              "    <tr>\n",
              "      <th>890</th>\n",
              "      <td>891</td>\n",
              "      <td>0</td>\n",
              "      <td>3</td>\n",
              "      <td>Dooley, Mr. Patrick</td>\n",
              "      <td>male</td>\n",
              "      <td>32.0</td>\n",
              "      <td>0</td>\n",
              "      <td>0</td>\n",
              "      <td>370376</td>\n",
              "      <td>7.7500</td>\n",
              "      <td>NaN</td>\n",
              "      <td>Q</td>\n",
              "    </tr>\n",
              "  </tbody>\n",
              "</table>\n",
              "<p>891 rows × 12 columns</p>\n",
              "</div>\n",
              "    <div class=\"colab-df-buttons\">\n",
              "\n",
              "  <div class=\"colab-df-container\">\n",
              "    <button class=\"colab-df-convert\" onclick=\"convertToInteractive('df-4cf2f13f-fbf8-4f06-ade2-9301e7d6af34')\"\n",
              "            title=\"Convert this dataframe to an interactive table.\"\n",
              "            style=\"display:none;\">\n",
              "\n",
              "  <svg xmlns=\"http://www.w3.org/2000/svg\" height=\"24px\" viewBox=\"0 -960 960 960\">\n",
              "    <path d=\"M120-120v-720h720v720H120Zm60-500h600v-160H180v160Zm220 220h160v-160H400v160Zm0 220h160v-160H400v160ZM180-400h160v-160H180v160Zm440 0h160v-160H620v160ZM180-180h160v-160H180v160Zm440 0h160v-160H620v160Z\"/>\n",
              "  </svg>\n",
              "    </button>\n",
              "\n",
              "  <style>\n",
              "    .colab-df-container {\n",
              "      display:flex;\n",
              "      gap: 12px;\n",
              "    }\n",
              "\n",
              "    .colab-df-convert {\n",
              "      background-color: #E8F0FE;\n",
              "      border: none;\n",
              "      border-radius: 50%;\n",
              "      cursor: pointer;\n",
              "      display: none;\n",
              "      fill: #1967D2;\n",
              "      height: 32px;\n",
              "      padding: 0 0 0 0;\n",
              "      width: 32px;\n",
              "    }\n",
              "\n",
              "    .colab-df-convert:hover {\n",
              "      background-color: #E2EBFA;\n",
              "      box-shadow: 0px 1px 2px rgba(60, 64, 67, 0.3), 0px 1px 3px 1px rgba(60, 64, 67, 0.15);\n",
              "      fill: #174EA6;\n",
              "    }\n",
              "\n",
              "    .colab-df-buttons div {\n",
              "      margin-bottom: 4px;\n",
              "    }\n",
              "\n",
              "    [theme=dark] .colab-df-convert {\n",
              "      background-color: #3B4455;\n",
              "      fill: #D2E3FC;\n",
              "    }\n",
              "\n",
              "    [theme=dark] .colab-df-convert:hover {\n",
              "      background-color: #434B5C;\n",
              "      box-shadow: 0px 1px 3px 1px rgba(0, 0, 0, 0.15);\n",
              "      filter: drop-shadow(0px 1px 2px rgba(0, 0, 0, 0.3));\n",
              "      fill: #FFFFFF;\n",
              "    }\n",
              "  </style>\n",
              "\n",
              "    <script>\n",
              "      const buttonEl =\n",
              "        document.querySelector('#df-4cf2f13f-fbf8-4f06-ade2-9301e7d6af34 button.colab-df-convert');\n",
              "      buttonEl.style.display =\n",
              "        google.colab.kernel.accessAllowed ? 'block' : 'none';\n",
              "\n",
              "      async function convertToInteractive(key) {\n",
              "        const element = document.querySelector('#df-4cf2f13f-fbf8-4f06-ade2-9301e7d6af34');\n",
              "        const dataTable =\n",
              "          await google.colab.kernel.invokeFunction('convertToInteractive',\n",
              "                                                    [key], {});\n",
              "        if (!dataTable) return;\n",
              "\n",
              "        const docLinkHtml = 'Like what you see? Visit the ' +\n",
              "          '<a target=\"_blank\" href=https://colab.research.google.com/notebooks/data_table.ipynb>data table notebook</a>'\n",
              "          + ' to learn more about interactive tables.';\n",
              "        element.innerHTML = '';\n",
              "        dataTable['output_type'] = 'display_data';\n",
              "        await google.colab.output.renderOutput(dataTable, element);\n",
              "        const docLink = document.createElement('div');\n",
              "        docLink.innerHTML = docLinkHtml;\n",
              "        element.appendChild(docLink);\n",
              "      }\n",
              "    </script>\n",
              "  </div>\n",
              "\n",
              "\n",
              "<div id=\"df-0c63016c-2978-4078-88f8-224df3f29c1a\">\n",
              "  <button class=\"colab-df-quickchart\" onclick=\"quickchart('df-0c63016c-2978-4078-88f8-224df3f29c1a')\"\n",
              "            title=\"Suggest charts.\"\n",
              "            style=\"display:none;\">\n",
              "\n",
              "<svg xmlns=\"http://www.w3.org/2000/svg\" height=\"24px\"viewBox=\"0 0 24 24\"\n",
              "     width=\"24px\">\n",
              "    <g>\n",
              "        <path d=\"M19 3H5c-1.1 0-2 .9-2 2v14c0 1.1.9 2 2 2h14c1.1 0 2-.9 2-2V5c0-1.1-.9-2-2-2zM9 17H7v-7h2v7zm4 0h-2V7h2v10zm4 0h-2v-4h2v4z\"/>\n",
              "    </g>\n",
              "</svg>\n",
              "  </button>\n",
              "\n",
              "<style>\n",
              "  .colab-df-quickchart {\n",
              "      --bg-color: #E8F0FE;\n",
              "      --fill-color: #1967D2;\n",
              "      --hover-bg-color: #E2EBFA;\n",
              "      --hover-fill-color: #174EA6;\n",
              "      --disabled-fill-color: #AAA;\n",
              "      --disabled-bg-color: #DDD;\n",
              "  }\n",
              "\n",
              "  [theme=dark] .colab-df-quickchart {\n",
              "      --bg-color: #3B4455;\n",
              "      --fill-color: #D2E3FC;\n",
              "      --hover-bg-color: #434B5C;\n",
              "      --hover-fill-color: #FFFFFF;\n",
              "      --disabled-bg-color: #3B4455;\n",
              "      --disabled-fill-color: #666;\n",
              "  }\n",
              "\n",
              "  .colab-df-quickchart {\n",
              "    background-color: var(--bg-color);\n",
              "    border: none;\n",
              "    border-radius: 50%;\n",
              "    cursor: pointer;\n",
              "    display: none;\n",
              "    fill: var(--fill-color);\n",
              "    height: 32px;\n",
              "    padding: 0;\n",
              "    width: 32px;\n",
              "  }\n",
              "\n",
              "  .colab-df-quickchart:hover {\n",
              "    background-color: var(--hover-bg-color);\n",
              "    box-shadow: 0 1px 2px rgba(60, 64, 67, 0.3), 0 1px 3px 1px rgba(60, 64, 67, 0.15);\n",
              "    fill: var(--button-hover-fill-color);\n",
              "  }\n",
              "\n",
              "  .colab-df-quickchart-complete:disabled,\n",
              "  .colab-df-quickchart-complete:disabled:hover {\n",
              "    background-color: var(--disabled-bg-color);\n",
              "    fill: var(--disabled-fill-color);\n",
              "    box-shadow: none;\n",
              "  }\n",
              "\n",
              "  .colab-df-spinner {\n",
              "    border: 2px solid var(--fill-color);\n",
              "    border-color: transparent;\n",
              "    border-bottom-color: var(--fill-color);\n",
              "    animation:\n",
              "      spin 1s steps(1) infinite;\n",
              "  }\n",
              "\n",
              "  @keyframes spin {\n",
              "    0% {\n",
              "      border-color: transparent;\n",
              "      border-bottom-color: var(--fill-color);\n",
              "      border-left-color: var(--fill-color);\n",
              "    }\n",
              "    20% {\n",
              "      border-color: transparent;\n",
              "      border-left-color: var(--fill-color);\n",
              "      border-top-color: var(--fill-color);\n",
              "    }\n",
              "    30% {\n",
              "      border-color: transparent;\n",
              "      border-left-color: var(--fill-color);\n",
              "      border-top-color: var(--fill-color);\n",
              "      border-right-color: var(--fill-color);\n",
              "    }\n",
              "    40% {\n",
              "      border-color: transparent;\n",
              "      border-right-color: var(--fill-color);\n",
              "      border-top-color: var(--fill-color);\n",
              "    }\n",
              "    60% {\n",
              "      border-color: transparent;\n",
              "      border-right-color: var(--fill-color);\n",
              "    }\n",
              "    80% {\n",
              "      border-color: transparent;\n",
              "      border-right-color: var(--fill-color);\n",
              "      border-bottom-color: var(--fill-color);\n",
              "    }\n",
              "    90% {\n",
              "      border-color: transparent;\n",
              "      border-bottom-color: var(--fill-color);\n",
              "    }\n",
              "  }\n",
              "</style>\n",
              "\n",
              "  <script>\n",
              "    async function quickchart(key) {\n",
              "      const quickchartButtonEl =\n",
              "        document.querySelector('#' + key + ' button');\n",
              "      quickchartButtonEl.disabled = true;  // To prevent multiple clicks.\n",
              "      quickchartButtonEl.classList.add('colab-df-spinner');\n",
              "      try {\n",
              "        const charts = await google.colab.kernel.invokeFunction(\n",
              "            'suggestCharts', [key], {});\n",
              "      } catch (error) {\n",
              "        console.error('Error during call to suggestCharts:', error);\n",
              "      }\n",
              "      quickchartButtonEl.classList.remove('colab-df-spinner');\n",
              "      quickchartButtonEl.classList.add('colab-df-quickchart-complete');\n",
              "    }\n",
              "    (() => {\n",
              "      let quickchartButtonEl =\n",
              "        document.querySelector('#df-0c63016c-2978-4078-88f8-224df3f29c1a button');\n",
              "      quickchartButtonEl.style.display =\n",
              "        google.colab.kernel.accessAllowed ? 'block' : 'none';\n",
              "    })();\n",
              "  </script>\n",
              "</div>\n",
              "    </div>\n",
              "  </div>\n"
            ]
          },
          "metadata": {},
          "execution_count": 95
        }
      ]
    },
    {
      "cell_type": "code",
      "source": [
        "print(data.columns.values)"
      ],
      "metadata": {
        "colab": {
          "base_uri": "https://localhost:8080/"
        },
        "id": "9ZDwHIqGmOnt",
        "outputId": "33630bc0-2812-4f07-e977-e390f8012a58"
      },
      "execution_count": null,
      "outputs": [
        {
          "output_type": "stream",
          "name": "stdout",
          "text": [
            "['PassengerId' 'Survived' 'Pclass' 'Name' 'Sex' 'Age' 'SibSp' 'Parch'\n",
            " 'Ticket' 'Fare' 'Cabin' 'Embarked']\n"
          ]
        }
      ]
    },
    {
      "cell_type": "code",
      "source": [
        "#section 2: 3\n",
        "columns_to_exclude = ['PassengerId', 'Name', 'Ticket', 'Cabin']\n",
        "data = data.drop(columns=columns_to_exclude)\n",
        "print(data)"
      ],
      "metadata": {
        "colab": {
          "base_uri": "https://localhost:8080/"
        },
        "id": "nzjF3tZ0r0lV",
        "outputId": "581e63af-f111-4574-8710-e5835ea28bb7"
      },
      "execution_count": null,
      "outputs": [
        {
          "output_type": "stream",
          "name": "stdout",
          "text": [
            "     Survived  Pclass     Sex   Age  SibSp  Parch     Fare Embarked\n",
            "0           0       3    male  22.0      1      0   7.2500        S\n",
            "1           1       1  female  38.0      1      0  71.2833        C\n",
            "2           1       3  female  26.0      0      0   7.9250        S\n",
            "3           1       1  female  35.0      1      0  53.1000        S\n",
            "4           0       3    male  35.0      0      0   8.0500        S\n",
            "..        ...     ...     ...   ...    ...    ...      ...      ...\n",
            "886         0       2    male  27.0      0      0  13.0000        S\n",
            "887         1       1  female  19.0      0      0  30.0000        S\n",
            "888         0       3  female   NaN      1      2  23.4500        S\n",
            "889         1       1    male  26.0      0      0  30.0000        C\n",
            "890         0       3    male  32.0      0      0   7.7500        Q\n",
            "\n",
            "[891 rows x 8 columns]\n"
          ]
        }
      ]
    },
    {
      "cell_type": "markdown",
      "source": [
        "#Section 2: 4\n",
        "Columns like 'PassengerId,' 'Name,' 'Ticket,' and 'Cabin' contain irrelevant or unique information that does not contribute meaningfully to predictive modeling. Removing them simplifies the dataset, reduces dimensionality, and makes it easier to interpret. It also helps in reducing the need for imputing missing values, minimizing noise, and enhancing the performance of predictive models. By excluding these columns, the dataset becomes more focused, efficient, and better suited for extracting meaningful patterns and insights, ultimately improving the quality of data-driven analyses and predictions."
      ],
      "metadata": {
        "id": "zlRMs-stuo8L"
      }
    },
    {
      "cell_type": "code",
      "source": [
        "#section 2: 5\n",
        "sex_dummies = pd.get_dummies(data, columns=['Sex'], drop_first = True)\n",
        "print(sex_dummies.head())"
      ],
      "metadata": {
        "colab": {
          "base_uri": "https://localhost:8080/"
        },
        "id": "fsVXWQJ6uInJ",
        "outputId": "7a4f9923-027d-4914-f095-c6ebe91a6235"
      },
      "execution_count": null,
      "outputs": [
        {
          "output_type": "stream",
          "name": "stdout",
          "text": [
            "   Survived  Pclass   Age  SibSp  Parch     Fare Embarked  Sex_male\n",
            "0         0       3  22.0      1      0   7.2500        S         1\n",
            "1         1       1  38.0      1      0  71.2833        C         0\n",
            "2         1       3  26.0      0      0   7.9250        S         0\n",
            "3         1       1  35.0      1      0  53.1000        S         0\n",
            "4         0       3  35.0      0      0   8.0500        S         1\n"
          ]
        }
      ]
    },
    {
      "cell_type": "code",
      "source": [
        "#section 2: 5\n",
        "age_dummies = pd.get_dummies(data, columns=['Age'], drop_first = True)\n",
        "print(age_dummies.head())"
      ],
      "metadata": {
        "id": "A9JIL1gT1iuM",
        "colab": {
          "base_uri": "https://localhost:8080/"
        },
        "outputId": "ea821cf5-524d-4df3-bbdc-5c59324a4e39"
      },
      "execution_count": null,
      "outputs": [
        {
          "output_type": "stream",
          "name": "stdout",
          "text": [
            "   Survived  Pclass     Sex  SibSp  Parch     Fare Embarked  Age_0.67  \\\n",
            "0         0       3    male      1      0   7.2500        S         0   \n",
            "1         1       1  female      1      0  71.2833        C         0   \n",
            "2         1       3  female      0      0   7.9250        S         0   \n",
            "3         1       1  female      1      0  53.1000        S         0   \n",
            "4         0       3    male      0      0   8.0500        S         0   \n",
            "\n",
            "   Age_0.75  Age_0.83  ...  Age_62.0  Age_63.0  Age_64.0  Age_65.0  Age_66.0  \\\n",
            "0         0         0  ...         0         0         0         0         0   \n",
            "1         0         0  ...         0         0         0         0         0   \n",
            "2         0         0  ...         0         0         0         0         0   \n",
            "3         0         0  ...         0         0         0         0         0   \n",
            "4         0         0  ...         0         0         0         0         0   \n",
            "\n",
            "   Age_70.0  Age_70.5  Age_71.0  Age_74.0  Age_80.0  \n",
            "0         0         0         0         0         0  \n",
            "1         0         0         0         0         0  \n",
            "2         0         0         0         0         0  \n",
            "3         0         0         0         0         0  \n",
            "4         0         0         0         0         0  \n",
            "\n",
            "[5 rows x 94 columns]\n"
          ]
        }
      ]
    },
    {
      "cell_type": "code",
      "source": [
        "#section 2: 6\n",
        "data = pd.get_dummies(data, columns=['Embarked'], prefix='Embarked')\n",
        "print(data)"
      ],
      "metadata": {
        "colab": {
          "base_uri": "https://localhost:8080/"
        },
        "id": "iH6_daCIwBe8",
        "outputId": "4279b045-b680-4489-e020-0376f1d106da"
      },
      "execution_count": null,
      "outputs": [
        {
          "output_type": "stream",
          "name": "stdout",
          "text": [
            "     Survived  Pclass     Sex   Age  SibSp  Parch     Fare  Embarked_C  \\\n",
            "0           0       3    male  22.0      1      0   7.2500           0   \n",
            "1           1       1  female  38.0      1      0  71.2833           1   \n",
            "2           1       3  female  26.0      0      0   7.9250           0   \n",
            "3           1       1  female  35.0      1      0  53.1000           0   \n",
            "4           0       3    male  35.0      0      0   8.0500           0   \n",
            "..        ...     ...     ...   ...    ...    ...      ...         ...   \n",
            "886         0       2    male  27.0      0      0  13.0000           0   \n",
            "887         1       1  female  19.0      0      0  30.0000           0   \n",
            "888         0       3  female   NaN      1      2  23.4500           0   \n",
            "889         1       1    male  26.0      0      0  30.0000           1   \n",
            "890         0       3    male  32.0      0      0   7.7500           0   \n",
            "\n",
            "     Embarked_Q  Embarked_S  \n",
            "0             0           1  \n",
            "1             0           0  \n",
            "2             0           1  \n",
            "3             0           1  \n",
            "4             0           1  \n",
            "..          ...         ...  \n",
            "886           0           1  \n",
            "887           0           1  \n",
            "888           0           1  \n",
            "889           0           0  \n",
            "890           1           0  \n",
            "\n",
            "[891 rows x 10 columns]\n"
          ]
        }
      ]
    },
    {
      "cell_type": "code",
      "source": [
        "#section 2: 7\n",
        "data['Sex'] = data['Sex'].map({'male': 0, 'female': 1})\n",
        "print(data.head())"
      ],
      "metadata": {
        "colab": {
          "base_uri": "https://localhost:8080/"
        },
        "id": "WDVjmKzz23rm",
        "outputId": "d69226eb-329f-4dae-87e1-0eb6ececa0b3"
      },
      "execution_count": null,
      "outputs": [
        {
          "output_type": "stream",
          "name": "stdout",
          "text": [
            "   Survived  Pclass  Sex   Age  SibSp  Parch     Fare  Embarked_C  Embarked_Q  \\\n",
            "0         0       3    0  22.0      1      0   7.2500           0           0   \n",
            "1         1       1    1  38.0      1      0  71.2833           1           0   \n",
            "2         1       3    1  26.0      0      0   7.9250           0           0   \n",
            "3         1       1    1  35.0      1      0  53.1000           0           0   \n",
            "4         0       3    0  35.0      0      0   8.0500           0           0   \n",
            "\n",
            "   Embarked_S  \n",
            "0           1  \n",
            "1           0  \n",
            "2           1  \n",
            "3           1  \n",
            "4           1  \n"
          ]
        }
      ]
    },
    {
      "cell_type": "code",
      "source": [
        "#section 2: 8\n",
        "missing_values = data.isnull().sum()\n",
        "print(missing_values)"
      ],
      "metadata": {
        "colab": {
          "base_uri": "https://localhost:8080/"
        },
        "id": "9nvR49Gp3GVZ",
        "outputId": "901ae633-7bd7-4daf-d591-e2bce201d174"
      },
      "execution_count": null,
      "outputs": [
        {
          "output_type": "stream",
          "name": "stdout",
          "text": [
            "Survived        0\n",
            "Pclass          0\n",
            "Sex             0\n",
            "Age           177\n",
            "SibSp           0\n",
            "Parch           0\n",
            "Fare            0\n",
            "Embarked_C      0\n",
            "Embarked_Q      0\n",
            "Embarked_S      0\n",
            "dtype: int64\n"
          ]
        }
      ]
    },
    {
      "cell_type": "code",
      "source": [
        "#section 2: 8\n",
        "# Replace missing values with the mean (for numeric columns) and mode (for categorical columns)\n",
        "data['Age'].fillna(data['Age'].mean(), inplace=True)  # Replace missing age values with the mean\n",
        "data['Sex'].fillna(data['Sex'].mean(), inplace=True)\n",
        "data['Embarked_C'].fillna(data['Embarked_C'].mode()[0], inplace=True)\n",
        "data['Embarked_Q'].fillna(data['Embarked_Q'].mode()[0], inplace=True)\n",
        "data['Embarked_S'].fillna(data['Embarked_S'].mode()[0], inplace=True)\n",
        "\n",
        "missing_values_after_imputation = data.isnull().sum()\n",
        "print(missing_values_after_imputation)\n"
      ],
      "metadata": {
        "colab": {
          "base_uri": "https://localhost:8080/"
        },
        "id": "lMp1O9JQ329-",
        "outputId": "c04b2371-40ea-4eb1-adbd-5e3b74a787a2"
      },
      "execution_count": null,
      "outputs": [
        {
          "output_type": "stream",
          "name": "stdout",
          "text": [
            "Survived      0\n",
            "Pclass        0\n",
            "Sex           0\n",
            "Age           0\n",
            "SibSp         0\n",
            "Parch         0\n",
            "Fare          0\n",
            "Embarked_C    0\n",
            "Embarked_Q    0\n",
            "Embarked_S    0\n",
            "dtype: int64\n"
          ]
        }
      ]
    },
    {
      "cell_type": "code",
      "source": [
        "#section 2: 9\n",
        "from sklearn.model_selection import train_test_split\n",
        "\n",
        "X = data.drop(columns=['Survived'])\n",
        "y = data['Survived']\n",
        "X_train, X_test, y_train, y_test = train_test_split(X, y, test_size=0.2, random_state=42)\n",
        "print(\"Training data shape (X_train, y_train):\", X_train.shape, y_train.shape)\n",
        "print(\"Testing data shape (X_test, y_test):\", X_test.shape, y_test.shape)"
      ],
      "metadata": {
        "colab": {
          "base_uri": "https://localhost:8080/"
        },
        "id": "YUCiiQKhrWCQ",
        "outputId": "ce446f0c-fe26-4b1f-aa39-05b35fe64ee8"
      },
      "execution_count": null,
      "outputs": [
        {
          "output_type": "stream",
          "name": "stdout",
          "text": [
            "Training data shape (X_train, y_train): (712, 9) (712,)\n",
            "Testing data shape (X_test, y_test): (179, 9) (179,)\n"
          ]
        }
      ]
    },
    {
      "cell_type": "code",
      "source": [
        "#section 3: 1 using Logistic Regression with the sklearn library\n",
        "#section 4: 1 Accuracy, precision, and Recall\n",
        "#section 4: 2 print the Confusion matrix\n",
        "from sklearn.linear_model import LogisticRegression\n",
        "from sklearn.metrics import accuracy_score, precision_score, recall_score, confusion_matrix\n",
        "import seaborn as sns\n",
        "import matplotlib.pyplot as plt\n",
        "\n",
        "logistic_regression_model = LogisticRegression()\n",
        "logistic_regression_model.fit(X_train, y_train)\n",
        "y_pred_logistic = logistic_regression_model.predict(X_test)\n",
        "\n",
        "accuracy_logistic = accuracy_score(y_test, y_pred_logistic)\n",
        "precision_logistic = precision_score(y_test, y_pred_logistic)\n",
        "recall_logistic = recall_score(y_test, y_pred_logistic)\n",
        "\n",
        "# Display the results\n",
        "print(\"Logistic Regression Results:\")\n",
        "print(\"Accuracy: {:.2f}\".format(accuracy_logistic))\n",
        "print(\"Precision: {:.2f}\".format(precision_logistic))\n",
        "print(\"Recall: {:.2f}\".format(recall_logistic))\n",
        "print(\"Confusion Matrix:\")\n",
        "\n",
        "# Calculate the confusion matrix for Logistic Regression\n",
        "conf_matrix_logistic = confusion_matrix(y_test, y_pred_logistic)\n",
        "\n",
        "# Create a heatmap for the confusion matrix\n",
        "plt.figure(figsize=(8, 6))\n",
        "cmap = sns.color_palette(\"RdPu\", as_cmap=True)\n",
        "cbar_kws = {\n",
        "    \"orientation\": \"vertical\",\n",
        "}\n",
        "sns.heatmap(conf_matrix_logistic, annot=True, fmt=\"d\", cmap=cmap, cbar=True, cbar_kws=cbar_kws)\n",
        "\n",
        "# Set the labels for the sides\n",
        "plt.xlabel(\"Predicted\")\n",
        "plt.ylabel(\"True\")\n",
        "plt.title(\"Confusion Matrix (Logistic Regression)\")\n",
        "\n",
        "# Show the confusion matrix as an image\n",
        "plt.show()"
      ],
      "metadata": {
        "colab": {
          "base_uri": "https://localhost:8080/",
          "height": 785
        },
        "id": "Mzkj0Sykmjh-",
        "outputId": "5494c1bd-1d24-452a-d24d-384ed00360c4"
      },
      "execution_count": null,
      "outputs": [
        {
          "output_type": "stream",
          "name": "stderr",
          "text": [
            "/usr/local/lib/python3.10/dist-packages/sklearn/linear_model/_logistic.py:458: ConvergenceWarning: lbfgs failed to converge (status=1):\n",
            "STOP: TOTAL NO. of ITERATIONS REACHED LIMIT.\n",
            "\n",
            "Increase the number of iterations (max_iter) or scale the data as shown in:\n",
            "    https://scikit-learn.org/stable/modules/preprocessing.html\n",
            "Please also refer to the documentation for alternative solver options:\n",
            "    https://scikit-learn.org/stable/modules/linear_model.html#logistic-regression\n",
            "  n_iter_i = _check_optimize_result(\n"
          ]
        },
        {
          "output_type": "stream",
          "name": "stdout",
          "text": [
            "Logistic Regression Results:\n",
            "Accuracy: 0.81\n",
            "Precision: 0.79\n",
            "Recall: 0.74\n",
            "Confusion Matrix:\n"
          ]
        },
        {
          "output_type": "display_data",
          "data": {
            "text/plain": [
              "<Figure size 800x600 with 2 Axes>"
            ],
            "image/png": "[encoded data removed]"
          },
          "metadata": {}
        }
      ]
    },
    {
      "cell_type": "code",
      "source": [
        "#section 3: 1 using Multi-Layer Perceptron with the sklearn library\n",
        "#section 4: 1 Accuracy, precision, and Recall\n",
        "#section 4: 2 print the Confusion matrix\n",
        "from sklearn.neural_network import MLPClassifier\n",
        "from sklearn.metrics import accuracy_score, precision_score, recall_score, confusion_matrix\n",
        "import seaborn as sns\n",
        "import matplotlib.pyplot as plt\n",
        "\n",
        "mlp_classifier = MLPClassifier(hidden_layer_sizes=(100, 50), max_iter=500, random_state=42)\n",
        "mlp_classifier.fit(X_train, y_train)\n",
        "y_pred_mlp = mlp_classifier.predict(X_test)\n",
        "\n",
        "accuracy_mlp = accuracy_score(y_test, y_pred_mlp)\n",
        "precision_mlp = precision_score(y_test, y_pred_mlp)\n",
        "recall_mlp = recall_score(y_test, y_pred_mlp)\n",
        "\n",
        "# Display the results\n",
        "print(\"Multi-Layer Perceptron Results:\")\n",
        "print(\"Accuracy: {:.2f}\".format(accuracy_mlp))\n",
        "print(\"Precision: {:.2f}\".format(precision_mlp))\n",
        "print(\"Recall: {:.2f}\".format(recall_mlp))\n",
        "print(\"Confusion Matrix:\")\n",
        "\n",
        "# Create a heatmap for the confusion matrix\n",
        "plt.figure(figsize=(8, 6))\n",
        "cmap = sns.color_palette(\"RdPu\", as_cmap=True)\n",
        "\n",
        "cbar_kws = {\n",
        "    \"orientation\": \"vertical\",\n",
        "}\n",
        "\n",
        "sns.heatmap(conf_matrix_mlp, annot=True, fmt=\"d\", cmap=cmap, cbar=True, cbar_kws=cbar_kws)\n",
        "\n",
        "# Set the labels for the sides\n",
        "plt.xlabel(\"Predicted\")\n",
        "plt.ylabel(\"True\")\n",
        "plt.title(\"Confusion Matrix (Multi-Layer Perceptron)\")\n",
        "\n",
        "# Show the confusion matrix as an image\n",
        "plt.show()"
      ],
      "metadata": {
        "colab": {
          "base_uri": "https://localhost:8080/",
          "height": 649
        },
        "id": "7oEkfFrpIdoZ",
        "outputId": "70b7ec0f-564a-43db-9923-4aa941886af9"
      },
      "execution_count": null,
      "outputs": [
        {
          "output_type": "stream",
          "name": "stdout",
          "text": [
            "Multi-Layer Perceptron Results:\n",
            "Accuracy: 0.80\n",
            "Precision: 0.78\n",
            "Recall: 0.73\n",
            "Confusion Matrix:\n"
          ]
        },
        {
          "output_type": "display_data",
          "data": {
            "text/plain": [
              "<Figure size 800x600 with 2 Axes>"
            ],
            "image/png": "[encoded data removed]"
          },
          "metadata": {}
        }
      ]
    },
    {
      "cell_type": "code",
      "source": [
        "#section 3: 1 using Support Vector Machine with the sklearn library\n",
        "#section 4: 1 Accuracy, precision, and Recall\n",
        "#section 4: 2 print the Confusion matrix\n",
        "from sklearn.svm import SVC\n",
        "from sklearn.metrics import accuracy_score, precision_score, recall_score, confusion_matrix\n",
        "import seaborn as sns\n",
        "import matplotlib.pyplot as plt\n",
        "\n",
        "svm_classifier = SVC()\n",
        "svm_classifier.fit(X_train, y_train)\n",
        "y_pred_svm = svm_classifier.predict(X_test)\n",
        "\n",
        "accuracy_svm = accuracy_score(y_test, y_pred_svm)\n",
        "precision_svm = precision_score(y_test, y_pred_svm)\n",
        "recall_svm = recall_score(y_test, y_pred_svm)\n",
        "\n",
        "# Display the results\n",
        "print(\"Support Vector Machine Results:\")\n",
        "print(\"Accuracy: {:.2f}\".format(accuracy_svm))\n",
        "print(\"Precision: {:.2f}\".format(precision_svm))\n",
        "print(\"Recall: {:.2f}\".format(recall_svm))\n",
        "print(\"Confusion Matrix:\")\n",
        "\n",
        "# Create a heatmap for the confusion matrix\n",
        "plt.figure(figsize=(8, 6))\n",
        "cmap = sns.color_palette(\"RdPu\", as_cmap=True)\n",
        "\n",
        "cbar_kws = {\n",
        "    \"orientation\": \"vertical\",\n",
        "}\n",
        "\n",
        "sns.heatmap(conf_matrix_svm, annot=True, fmt=\"d\", cmap=cmap, cbar=True, cbar_kws=cbar_kws)\n",
        "\n",
        "# Set the labels for the sides\n",
        "plt.xlabel(\"Predicted\")\n",
        "plt.ylabel(\"True\")\n",
        "plt.title(\"Confusion Matrix (Support Vector Machine)\")\n",
        "\n",
        "# Show the confusion matrix as an image\n",
        "plt.show()"
      ],
      "metadata": {
        "colab": {
          "base_uri": "https://localhost:8080/",
          "height": 649
        },
        "id": "r1DiJefHLkKW",
        "outputId": "4d5867f8-a594-4a88-fc0f-78ada7e38603"
      },
      "execution_count": null,
      "outputs": [
        {
          "output_type": "stream",
          "name": "stdout",
          "text": [
            "Support Vector Machine Results:\n",
            "Accuracy: 0.66\n",
            "Precision: 0.76\n",
            "Recall: 0.26\n",
            "Confusion Matrix:\n"
          ]
        },
        {
          "output_type": "display_data",
          "data": {
            "text/plain": [
              "<Figure size 800x600 with 2 Axes>"
            ],
            "image/png": "[encoded data removed]"
          },
          "metadata": {}
        }
      ]
    },
    {
      "cell_type": "code",
      "source": [
        "#section 3: 1 using KNN with the sklearn library\n",
        "#section 4: 1 Accuracy, precision, and Recall\n",
        "#section 4: 2 print the Confusion matrix\n",
        "from sklearn.neighbors import KNeighborsClassifier\n",
        "from sklearn.metrics import accuracy_score, precision_score, recall_score, confusion_matrix\n",
        "import seaborn as sns\n",
        "import matplotlib.pyplot as plt\n",
        "\n",
        "# KNN classifier with 7 neighbors for example\n",
        "knn_classifier = KNeighborsClassifier(n_neighbors=7)\n",
        "knn_classifier.fit(X_train, y_train)\n",
        "y_pred = knn_classifier.predict(X_test)\n",
        "\n",
        "accuracy = accuracy_score(y_test, y_pred)\n",
        "precision = precision_score(y_test, y_pred)\n",
        "recall = recall_score(y_test, y_pred)\n",
        "\n",
        "\n",
        "# Display the results\n",
        "print(\"KNN Results:\")\n",
        "print(\"Accuracy: {:.2f}\".format(accuracy))\n",
        "print(\"Precision: {:.2f}\".format(precision))\n",
        "print(\"Recall: {:.2f}\".format(recall))\n",
        "print(\"Confusion Matrix:\")\n",
        "\n",
        "# Create a heatmap for the confusion matrix\n",
        "plt.figure(figsize=(8, 6))\n",
        "cmap = sns.color_palette(\"RdPu\", as_cmap=True)\n",
        "\n",
        "cbar_kws = {\n",
        "    \"orientation\": \"vertical\",\n",
        "}\n",
        "\n",
        "sns.heatmap(conf_matrix_knn, annot=True, fmt=\"d\", cmap=cmap, cbar=True, cbar_kws=cbar_kws)\n",
        "\n",
        "# Set the labels for the sides\n",
        "plt.xlabel(\"Predicted\")\n",
        "plt.ylabel(\"True\")\n",
        "plt.title(\"Confusion Matrix (KNN)\")\n",
        "\n",
        "# Show the confusion matrix as an image\n",
        "plt.show()"
      ],
      "metadata": {
        "colab": {
          "base_uri": "https://localhost:8080/",
          "height": 649
        },
        "id": "b53-2VpXweuX",
        "outputId": "d4d1003b-d5bd-4f53-f086-14af34420fa0"
      },
      "execution_count": null,
      "outputs": [
        {
          "output_type": "stream",
          "name": "stdout",
          "text": [
            "KNN Results:\n",
            "Accuracy: 0.72\n",
            "Precision: 0.69\n",
            "Recall: 0.58\n",
            "Confusion Matrix:\n"
          ]
        },
        {
          "output_type": "display_data",
          "data": {
            "text/plain": [
              "<Figure size 800x600 with 2 Axes>"
            ],
            "image/png": "[encoded data removed]"
          },
          "metadata": {}
        }
      ]
    },
    {
      "cell_type": "markdown",
      "source": [
        "#Section 3: 3\n",
        "Logistic Regression is a linear model used for binary and multiclass classification. It estimates the probability that a given instance belongs to a particular class. The key hyperparameter in the implementation is C, which controls the trade-off between fitting the training data and preventing overfitting.\n",
        "\n",
        "Multi-Layer Perceptron is a neural network model with multiple layers, capable of handling various machine learning tasks. It has two hidden layers with 100 and 50 neurons. The max_iter parameter is set to 500, and random_state is used to seed random initialization.\n",
        "\n",
        "Support Vector Machines is a discriminative classifier that aims to find the hyperplane with the largest margin between classes. The implementation uses the 'rbf' kernel by default, with a regularization parameter C set to 1.0.\n",
        "\n",
        "K-Nearest Neighbors (KNN) is an instance-based, non-parametric model used for classification and regression. It uses 7 nearest neighbors by default and assigns uniform weights to them. KNN makes predictions based on the majority class of its nearest neighbors, making it suitable for various types of data."
      ],
      "metadata": {
        "id": "LgxAwXhAOVj_"
      }
    },
    {
      "cell_type": "code",
      "source": [
        "#section 4: 3\n",
        "# Create a DataFrame to store the results\n",
        "results = pd.DataFrame({\n",
        "    \"Model Name\": [\"KNN\", \"Logistic Regression\", \"Multi-Layer Perceptron\", \"Support Vector Machine\"],\n",
        "    \"Accuracy\": [accuracy, accuracy_logistic, accuracy_mlp, accuracy_svm],\n",
        "    \"Precision\": [precision, precision_logistic, precision_mlp, precision_svm],\n",
        "    \"Recall\": [recall, recall_logistic, recall_mlp, recall_svm]\n",
        "})\n",
        "\n",
        "# Sort the DataFrame by Accuracy in descending order\n",
        "results = results.sort_values(by=\"Accuracy\", ascending=False)\n",
        "\n",
        "results = results.reset_index(drop=True)\n",
        "\n",
        "# Display the table\n",
        "print(\"Comparison of Model Performance:\")\n",
        "print(results)\n"
      ],
      "metadata": {
        "colab": {
          "base_uri": "https://localhost:8080/"
        },
        "id": "wTpocEggUqOg",
        "outputId": "ec0be7df-faba-4f73-9a34-ee9218768848"
      },
      "execution_count": null,
      "outputs": [
        {
          "output_type": "stream",
          "name": "stdout",
          "text": [
            "Comparison of Model Performance:\n",
            "               Model Name  Accuracy  Precision    Recall\n",
            "0     Logistic Regression  0.810056   0.785714  0.743243\n",
            "1  Multi-Layer Perceptron  0.804469   0.782609  0.729730\n",
            "2                     KNN  0.720670   0.693548  0.581081\n",
            "3  Support Vector Machine  0.659218   0.760000  0.256757\n"
          ]
        }
      ]
    },
    {
      "cell_type": "markdown",
      "source": [
        "#Section 4: 4\n",
        "Accuracy measures the overall correctness of the model's predictions. In this comparison, logistic regression has the highest accuracy of  0.810056, followed by multi-layer perceptron 0.804469, knn 0.720670, and support vector machine 0.659218.\n",
        "\n",
        "Logistic regression and multi-layer perceptron outperformed knn and support vector machine in terms of accuracy. This could be because the dataset might have a predominantly linear or slightly non-linear relationship between features and survival.\n",
        "\n",
        "KNN and support vector machine achieved lower accuracy values, which could indicate that the choice of hyperparameters, or data preprocessing might not have been optimized for these models."
      ],
      "metadata": {
        "id": "QBwmZvqfGmKz"
      }
    },
    {
      "cell_type": "code",
      "source": [
        "#section 3: 2 bonus Logistic Regression\n",
        "import numpy as np\n",
        "\n",
        "def sigmoid(x):\n",
        "    return 1/(1+np.exp(-x))\n",
        "\n",
        "class LogisticRegression():\n",
        "\n",
        "    def __init__(self, lr=0.001, n_iters=1000):\n",
        "        self.lr = lr\n",
        "        self.n_iters = n_iters\n",
        "        self.weights = None\n",
        "        self.bias = None\n",
        "\n",
        "    def fit(self, X, y):\n",
        "        n_samples, n_features = X.shape\n",
        "        self.weights = np.zeros(n_features)\n",
        "        self.bias = 0\n",
        "\n",
        "        for _ in range(self.n_iters):\n",
        "            linear_pred = np.dot(X, self.weights) + self.bias\n",
        "            predictions = sigmoid(linear_pred)\n",
        "\n",
        "            dw = (1/n_samples) * np.dot(X.T, (predictions - y))\n",
        "            db = (1/n_samples) * np.sum(predictions-y)\n",
        "\n",
        "            self.weights = self.weights - self.lr*dw\n",
        "            self.bias = self.bias - self.lr*db\n",
        "\n",
        "\n",
        "    def predict(self, X):\n",
        "        linear_pred = np.dot(X, self.weights) + self.bias\n",
        "        y_pred = sigmoid(linear_pred)\n",
        "        class_pred = [0 if y<=0.5 else 1 for y in y_pred]\n",
        "        return class_pred"
      ],
      "metadata": {
        "id": "Ld_UgIPpa7aa"
      },
      "execution_count": null,
      "outputs": []
    },
    {
      "cell_type": "code",
      "source": [
        "#section 3: 2 bonus Multi-Layer Perceptron attempt\n",
        "import numpy as np\n",
        "\n",
        "# Define the sigmoid activation function\n",
        "def sigmoid(x):\n",
        "    return 1 / (1 + np.exp(-x))\n",
        "\n",
        "# Initialize the neural network architecture\n",
        "input_size = X_train.shape[1]\n",
        "# Number of neurons\n",
        "hidden_size = 16\n",
        "output_size = 1\n",
        "\n",
        "# Initialize weights and biases for the neural network\n",
        "np.random.seed(0)  # Set a random seed\n",
        "weights_input_hidden = np.random.randn(input_size, hidden_size)\n",
        "bias_hidden = np.zeros((1, hidden_size))\n",
        "weights_hidden_output = np.random.randn(hidden_size, output_size)\n",
        "bias_output = np.zeros((1, output_size))\n",
        "\n",
        "# Hyperparameters\n",
        "learning_rate = 0.01\n",
        "num_epochs = 1000\n",
        "\n",
        "# Make predictions on the test data\n",
        "hidden_layer_input_test = np.dot(X_test, weights_input_hidden) + bias_hidden\n",
        "hidden_layer_output_test = sigmoid(hidden_layer_input_test)\n",
        "output_layer_input_test = np.dot(hidden_layer_output_test, weights_hidden_output) + bias_output\n",
        "output_layer_output_test = sigmoid(output_layer_input_test)\n",
        "predictions_mlp = (output_layer_output_test >= 0.5).astype(int)\n"
      ],
      "metadata": {
        "id": "fFGBCGl-UFQz"
      },
      "execution_count": null,
      "outputs": []
    },
    {
      "cell_type": "code",
      "source": [
        "#section 3: 2 bonus Support Vector Machine attempt\n",
        "import numpy as np\n",
        "\n",
        "# Define the hinge loss function\n",
        "def hinge_loss(X, y, weights, bias, C):\n",
        "    # Calculate the decision values\n",
        "    decision = y * (np.dot(X, weights) + bias)\n",
        "    # Calculate the hinge loss\n",
        "    loss = 1 - decision\n",
        "    loss[loss < 0] = 0\n",
        "    # Calculate the SVM loss\n",
        "    svm_loss = 0.5 * np.dot(weights, weights) + C * np.sum(loss)\n",
        "    # Calculate gradients\n",
        "    gradients = -C * np.dot(X.T, decision < 1) + weights\n",
        "    return svm_loss, gradients\n",
        "\n",
        "learning_rate = 0.01\n",
        "num_epochs = 1000\n",
        "C = 1.0\n",
        "\n",
        "weights = np.zeros(X_train.shape[1])\n",
        "bias = 0\n",
        "\n",
        "# Training loop\n",
        "for epoch in range(num_epochs):\n",
        "    svm_loss, gradients = hinge_loss(X_train, y_train, weights, bias, C)\n",
        "    weights -= learning_rate * gradients\n",
        "\n",
        "# Make predictions on the test data\n",
        "decision_values = y_pred_svm = np.dot(X_test, weights) + bias\n",
        "predictions_svm = np.sign(decision_values)"
      ],
      "metadata": {
        "id": "6lwjPzIFd0_i"
      },
      "execution_count": null,
      "outputs": []
    },
    {
      "cell_type": "code",
      "source": [
        "#section 3: 2 bonus KNN\n",
        "import numpy as np\n",
        "from collections import Counter\n",
        "\n",
        "def euclidean_distance(x1, x2):\n",
        "    distance = np.sqrt(np.sum((x1-x2)**2))\n",
        "    return distance\n",
        "\n",
        "class KNN:\n",
        "    def __init__(self, k=3):\n",
        "        self.k = k\n",
        "\n",
        "    def fit(self, X, y):\n",
        "        self.X_train = X\n",
        "        self.y_train = y\n",
        "\n",
        "    def predict(self, X):\n",
        "        predictions = [self._predict(x) for x in X]\n",
        "        return predictions\n",
        "\n",
        "    def _predict(self, x):\n",
        "        # compute the distance\n",
        "        distances = [euclidean_distance(x, x_train) for x_train in self.X_train]\n",
        "\n",
        "        # get the closest k\n",
        "        k_indices = np.argsort(distances)[:self.k]\n",
        "        k_nearest_labels = [self.y_train[i] for i in k_indices]\n",
        "\n",
        "        # majority voye\n",
        "        most_common = Counter(k_nearest_labels).most_common()\n",
        "        return most_common[0][0]"
      ],
      "metadata": {
        "id": "zf8Qf_xwprpb"
      },
      "execution_count": null,
      "outputs": []
    },
    {
      "cell_type": "code",
      "source": [
        "#section 4: 5\n",
        "from sklearn.neural_network import MLPClassifier\n",
        "from sklearn.metrics import accuracy_score\n",
        "\n",
        "# MLP with Sigmoid activation\n",
        "mlp_sigmoid = MLPClassifier(activation='logistic', hidden_layer_sizes=(100, 100), max_iter=1000)\n",
        "mlp_sigmoid.fit(X_train, y_train)\n",
        "\n",
        "# MLP with Hyperbolic Tangent (tanh) activation\n",
        "mlp_tanh = MLPClassifier(activation='tanh', hidden_layer_sizes=(100, 100), max_iter=1000)\n",
        "mlp_tanh.fit(X_train, y_train)\n",
        "\n",
        "# MLP with Rectified Linear Unit (ReLU) activation\n",
        "mlp_relu = MLPClassifier(activation='relu', hidden_layer_sizes=(100, 100), max_iter=1000)\n",
        "mlp_relu.fit(X_train, y_train)\n",
        "\n",
        "# Make predictions on the test data for each MLP model\n",
        "y_pred_sigmoid = mlp_sigmoid.predict(X_test)\n",
        "y_pred_tanh = mlp_tanh.predict(X_test)\n",
        "y_pred_relu = mlp_relu.predict(X_test)\n",
        "\n",
        "# Calculate accuracy for each model\n",
        "accuracy_sigmoid = accuracy_score(y_test, y_pred_sigmoid)\n",
        "accuracy_tanh = accuracy_score(y_test, y_pred_tanh)\n",
        "accuracy_relu = accuracy_score(y_test, y_pred_relu)\n",
        "\n",
        "# Print the accuracy results\n",
        "print(\"MLP with Sigmoid Activation Accuracy: {:.2f}\".format(accuracy_sigmoid))\n",
        "print(\"MLP with Hyperbolic Tangent (tanh) Activation Accuracy: {:.2f}\".format(accuracy_tanh))\n",
        "print(\"MLP with Rectified Linear Unit (ReLU) Activation Accuracy: {:.2f}\".format(accuracy_relu))\n"
      ],
      "metadata": {
        "colab": {
          "base_uri": "https://localhost:8080/"
        },
        "id": "-0KYnCUCuahZ",
        "outputId": "ecfbe06f-8fdc-4b83-dc99-31dfa5c60c11"
      },
      "execution_count": null,
      "outputs": [
        {
          "output_type": "stream",
          "name": "stdout",
          "text": [
            "MLP with Sigmoid Activation Accuracy: 0.80\n",
            "MLP with Hyperbolic Tangent (tanh) Activation Accuracy: 0.79\n",
            "MLP with Rectified Linear Unit (ReLU) Activation Accuracy: 0.80\n"
          ]
        }
      ]
    },
    {
      "cell_type": "code",
      "source": [
        "import numpy as np\n",
        "import matplotlib.pyplot as plt\n",
        "from sklearn.neural_network import MLPRegressor\n",
        "from sklearn.metrics import mean_squared_error\n",
        "\n",
        "widths = np.linspace(20, 10000, 15, dtype=int)\n",
        "training_loss = []\n",
        "testing_loss = []\n",
        "\n",
        "for width in widths:\n",
        "    # Create an MLP with one hidden layer and ReLU activation\n",
        "    mlp = MLPRegressor(hidden_layer_sizes=(width,), activation='relu', max_iter=1000)\n",
        "\n",
        "    # Train the model on the training data\n",
        "    mlp.fit(X_train, y_train)\n",
        "\n",
        "    # Make predictions on the training and testing data\n",
        "    y_train_pred = mlp.predict(X_train)\n",
        "    y_test_pred = mlp.predict(X_test)\n",
        "\n",
        "    # Calculate mean squared error for training and testing\n",
        "    train_loss = mean_squared_error(y_train, y_train_pred)\n",
        "    test_loss = mean_squared_error(y_test, y_test_pred)\n",
        "\n",
        "    # Append the losses to the lists\n",
        "    training_loss.append(train_loss)\n",
        "    testing_loss.append(test_loss)\n",
        "\n",
        "# Plot the training and testing loss against the number of parameters (width)\n",
        "plt.figure(figsize=(10, 5))\n",
        "plt.plot(widths, training_loss, label='Training Loss', color='purple')\n",
        "plt.plot(widths, testing_loss, label='Testing Loss', color='blue')\n",
        "plt.xlabel('Number of Parameters (Width of Hidden Layer)')\n",
        "plt.ylabel('Mean Squared Error Loss')\n",
        "plt.title('Training and Testing Loss vs. Number of Parameters')\n",
        "plt.legend()\n",
        "plt.grid(True)\n",
        "plt.show()"
      ],
      "metadata": {
        "colab": {
          "base_uri": "https://localhost:8080/",
          "height": 487
        },
        "id": "2UYosne7wXXG",
        "outputId": "f1cccd13-cbca-42c5-8c77-3b1fc0cf1868"
      },
      "execution_count": null,
      "outputs": [
        {
          "output_type": "display_data",
          "data": {
            "text/plain": [
              "<Figure size 1000x500 with 1 Axes>"
            ],
            "image/png": "[encoded data removed]"
          },
          "metadata": {}
        }
      ]
    }
  ]
}